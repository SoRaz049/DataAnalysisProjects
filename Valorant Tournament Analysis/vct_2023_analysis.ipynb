{
 "cells": [
  {
   "cell_type": "code",
   "execution_count": 1,
   "metadata": {},
   "outputs": [],
   "source": [
    "import pandas as pd\n",
    "import numpy as mp\n",
    "from matplotlib import pyplot as plt\n",
    "import seaborn as sns\n",
    "import warnings\n",
    "warnings.simplefilter(action='ignore', category=FutureWarning)\n",
    "warnings.simplefilter(action='ignore', category=UserWarning)"
   ]
  },
  {
   "cell_type": "code",
   "execution_count": 2,
   "metadata": {},
   "outputs": [],
   "source": [
    "df_2023 = pd.read_csv(\"vct_2023_agents_pick_rates.csv\")"
   ]
  },
  {
   "cell_type": "code",
   "execution_count": 3,
   "metadata": {},
   "outputs": [
    {
     "name": "stdout",
     "output_type": "stream",
     "text": [
      "<class 'pandas.core.frame.DataFrame'>\n",
      "RangeIndex: 16974 entries, 0 to 16973\n",
      "Data columns (total 6 columns):\n",
      " #   Column      Non-Null Count  Dtype \n",
      "---  ------      --------------  ----- \n",
      " 0   Tournament  16974 non-null  object\n",
      " 1   Stage       16974 non-null  object\n",
      " 2   Match Type  16974 non-null  object\n",
      " 3   Map         16974 non-null  object\n",
      " 4   Agent       16974 non-null  object\n",
      " 5   Pick Rate   16974 non-null  object\n",
      "dtypes: object(6)\n",
      "memory usage: 795.8+ KB\n"
     ]
    }
   ],
   "source": [
    "df_2023.info()"
   ]
  },
  {
   "cell_type": "code",
   "execution_count": 4,
   "metadata": {},
   "outputs": [
    {
     "data": {
      "text/html": [
       "<div>\n",
       "<style scoped>\n",
       "    .dataframe tbody tr th:only-of-type {\n",
       "        vertical-align: middle;\n",
       "    }\n",
       "\n",
       "    .dataframe tbody tr th {\n",
       "        vertical-align: top;\n",
       "    }\n",
       "\n",
       "    .dataframe thead th {\n",
       "        text-align: right;\n",
       "    }\n",
       "</style>\n",
       "<table border=\"1\" class=\"dataframe\">\n",
       "  <thead>\n",
       "    <tr style=\"text-align: right;\">\n",
       "      <th></th>\n",
       "      <th>Tournament</th>\n",
       "      <th>Stage</th>\n",
       "      <th>Match Type</th>\n",
       "      <th>Map</th>\n",
       "      <th>Agent</th>\n",
       "      <th>Pick Rate</th>\n",
       "    </tr>\n",
       "  </thead>\n",
       "  <tbody>\n",
       "    <tr>\n",
       "      <th>0</th>\n",
       "      <td>Champions Tour 2023: EMEA Last Chance Qualifier</td>\n",
       "      <td>Playoffs</td>\n",
       "      <td>Knockout Round</td>\n",
       "      <td>All Maps</td>\n",
       "      <td>omen</td>\n",
       "      <td>67%</td>\n",
       "    </tr>\n",
       "    <tr>\n",
       "      <th>1</th>\n",
       "      <td>Champions Tour 2023: EMEA Last Chance Qualifier</td>\n",
       "      <td>Playoffs</td>\n",
       "      <td>Knockout Round</td>\n",
       "      <td>All Maps</td>\n",
       "      <td>skye</td>\n",
       "      <td>58%</td>\n",
       "    </tr>\n",
       "    <tr>\n",
       "      <th>2</th>\n",
       "      <td>Champions Tour 2023: EMEA Last Chance Qualifier</td>\n",
       "      <td>Playoffs</td>\n",
       "      <td>Knockout Round</td>\n",
       "      <td>All Maps</td>\n",
       "      <td>raze</td>\n",
       "      <td>58%</td>\n",
       "    </tr>\n",
       "    <tr>\n",
       "      <th>3</th>\n",
       "      <td>Champions Tour 2023: EMEA Last Chance Qualifier</td>\n",
       "      <td>Playoffs</td>\n",
       "      <td>Knockout Round</td>\n",
       "      <td>All Maps</td>\n",
       "      <td>breach</td>\n",
       "      <td>58%</td>\n",
       "    </tr>\n",
       "    <tr>\n",
       "      <th>4</th>\n",
       "      <td>Champions Tour 2023: EMEA Last Chance Qualifier</td>\n",
       "      <td>Playoffs</td>\n",
       "      <td>Knockout Round</td>\n",
       "      <td>All Maps</td>\n",
       "      <td>killjoy</td>\n",
       "      <td>58%</td>\n",
       "    </tr>\n",
       "  </tbody>\n",
       "</table>\n",
       "</div>"
      ],
      "text/plain": [
       "                                        Tournament     Stage      Match Type  \\\n",
       "0  Champions Tour 2023: EMEA Last Chance Qualifier  Playoffs  Knockout Round   \n",
       "1  Champions Tour 2023: EMEA Last Chance Qualifier  Playoffs  Knockout Round   \n",
       "2  Champions Tour 2023: EMEA Last Chance Qualifier  Playoffs  Knockout Round   \n",
       "3  Champions Tour 2023: EMEA Last Chance Qualifier  Playoffs  Knockout Round   \n",
       "4  Champions Tour 2023: EMEA Last Chance Qualifier  Playoffs  Knockout Round   \n",
       "\n",
       "        Map    Agent Pick Rate  \n",
       "0  All Maps     omen       67%  \n",
       "1  All Maps     skye       58%  \n",
       "2  All Maps     raze       58%  \n",
       "3  All Maps   breach       58%  \n",
       "4  All Maps  killjoy       58%  "
      ]
     },
     "execution_count": 4,
     "metadata": {},
     "output_type": "execute_result"
    }
   ],
   "source": [
    "df_2023.head()"
   ]
  },
  {
   "cell_type": "code",
   "execution_count": 5,
   "metadata": {},
   "outputs": [
    {
     "data": {
      "text/plain": [
       "Tournament    0\n",
       "Stage         0\n",
       "Match Type    0\n",
       "Map           0\n",
       "Agent         0\n",
       "Pick Rate     0\n",
       "dtype: int64"
      ]
     },
     "execution_count": 5,
     "metadata": {},
     "output_type": "execute_result"
    }
   ],
   "source": [
    "df_2023.isnull().sum()"
   ]
  },
  {
   "cell_type": "code",
   "execution_count": 6,
   "metadata": {},
   "outputs": [
    {
     "name": "stdout",
     "output_type": "stream",
     "text": [
      "object\n"
     ]
    }
   ],
   "source": [
    "print(df_2023[\"Pick Rate\"].dtype)"
   ]
  },
  {
   "cell_type": "code",
   "execution_count": 7,
   "metadata": {},
   "outputs": [],
   "source": [
    "df_2023[\"Pick Rate\"] = df_2023[\"Pick Rate\"].str.rstrip('%').astype(float) "
   ]
  },
  {
   "cell_type": "code",
   "execution_count": 8,
   "metadata": {},
   "outputs": [
    {
     "data": {
      "text/plain": [
       "Stage\n",
       "Playoffs             6049\n",
       "Regular Season       2668\n",
       "Group Stage          2093\n",
       "All Stages           1886\n",
       "Main Event           1380\n",
       "League Play          1219\n",
       "Bracket Stage         851\n",
       "Preliminary Stage     828\n",
       "Name: count, dtype: int64"
      ]
     },
     "execution_count": 8,
     "metadata": {},
     "output_type": "execute_result"
    }
   ],
   "source": [
    "df_2023[\"Stage\"].value_counts()"
   ]
  },
  {
   "cell_type": "code",
   "execution_count": 9,
   "metadata": {},
   "outputs": [],
   "source": [
    "playoffs_stage = df_2023[df_2023[\"Stage\"] == \"Playoffs\"]"
   ]
  },
  {
   "cell_type": "code",
   "execution_count": 10,
   "metadata": {},
   "outputs": [
    {
     "data": {
      "text/plain": [
       "Tournament                            Agent    \n",
       "Champions Tour 2023: Americas League  astra        16.696970\n",
       "                                      breach       22.272727\n",
       "                                      brimstone    17.333333\n",
       "                                      chamber       4.060606\n",
       "                                      cypher        0.000000\n",
       "                                                     ...    \n",
       "Valorant Champions 2023               sage          0.000000\n",
       "                                      skye         58.435897\n",
       "                                      sova         28.743590\n",
       "                                      viper        50.102564\n",
       "                                      yoru          6.512821\n",
       "Name: Pick Rate, Length: 184, dtype: float64"
      ]
     },
     "execution_count": 10,
     "metadata": {},
     "output_type": "execute_result"
    }
   ],
   "source": [
    "average_pick_playoffs = playoffs_stage.groupby(['Tournament', 'Agent'])[\"Pick Rate\"].mean()\n",
    "\n",
    "average_pick_playoffs\n"
   ]
  },
  {
   "cell_type": "code",
   "execution_count": 11,
   "metadata": {},
   "outputs": [
    {
     "name": "stdout",
     "output_type": "stream",
     "text": [
      "['Champions Tour 2023: EMEA Last Chance Qualifier'\n",
      " 'Champions Tour 2023: Pacific Last Chance Qualifier'\n",
      " 'Champions Tour 2023: Americas Last Chance Qualifier'\n",
      " 'Champions Tour 2023: Masters Tokyo'\n",
      " 'Champions Tour 2023: Lock-In Sao Paulo' 'Valorant Champions 2023'\n",
      " 'Champions Tour 2023: Champions China Qualifier'\n",
      " 'Champions Tour 2023: Pacific League' 'Champions Tour 2023: EMEA League'\n",
      " 'Champions Tour 2023: Americas League']\n"
     ]
    }
   ],
   "source": [
    "print(df_2023['Tournament'].unique())"
   ]
  },
  {
   "cell_type": "code",
   "execution_count": 12,
   "metadata": {},
   "outputs": [],
   "source": [
    "filter = 'Americas'"
   ]
  },
  {
   "cell_type": "code",
   "execution_count": 13,
   "metadata": {},
   "outputs": [],
   "source": [
    "df_2023_filtered = df_2023[df_2023['Tournament'].str.contains(filter, na = False)]\n",
    "df_2023['Tournament'] = df_2023_filtered['Tournament']"
   ]
  },
  {
   "cell_type": "code",
   "execution_count": 14,
   "metadata": {},
   "outputs": [
    {
     "data": {
      "text/html": [
       "<div>\n",
       "<style scoped>\n",
       "    .dataframe tbody tr th:only-of-type {\n",
       "        vertical-align: middle;\n",
       "    }\n",
       "\n",
       "    .dataframe tbody tr th {\n",
       "        vertical-align: top;\n",
       "    }\n",
       "\n",
       "    .dataframe thead th {\n",
       "        text-align: right;\n",
       "    }\n",
       "</style>\n",
       "<table border=\"1\" class=\"dataframe\">\n",
       "  <thead>\n",
       "    <tr style=\"text-align: right;\">\n",
       "      <th></th>\n",
       "      <th>Tournament</th>\n",
       "      <th>Stage</th>\n",
       "      <th>Match Type</th>\n",
       "      <th>Map</th>\n",
       "      <th>Agent</th>\n",
       "      <th>Pick Rate</th>\n",
       "    </tr>\n",
       "  </thead>\n",
       "  <tbody>\n",
       "    <tr>\n",
       "      <th>0</th>\n",
       "      <td>NaN</td>\n",
       "      <td>Playoffs</td>\n",
       "      <td>Knockout Round</td>\n",
       "      <td>All Maps</td>\n",
       "      <td>omen</td>\n",
       "      <td>67.0</td>\n",
       "    </tr>\n",
       "    <tr>\n",
       "      <th>1</th>\n",
       "      <td>NaN</td>\n",
       "      <td>Playoffs</td>\n",
       "      <td>Knockout Round</td>\n",
       "      <td>All Maps</td>\n",
       "      <td>skye</td>\n",
       "      <td>58.0</td>\n",
       "    </tr>\n",
       "    <tr>\n",
       "      <th>2</th>\n",
       "      <td>NaN</td>\n",
       "      <td>Playoffs</td>\n",
       "      <td>Knockout Round</td>\n",
       "      <td>All Maps</td>\n",
       "      <td>raze</td>\n",
       "      <td>58.0</td>\n",
       "    </tr>\n",
       "    <tr>\n",
       "      <th>3</th>\n",
       "      <td>NaN</td>\n",
       "      <td>Playoffs</td>\n",
       "      <td>Knockout Round</td>\n",
       "      <td>All Maps</td>\n",
       "      <td>breach</td>\n",
       "      <td>58.0</td>\n",
       "    </tr>\n",
       "    <tr>\n",
       "      <th>4</th>\n",
       "      <td>NaN</td>\n",
       "      <td>Playoffs</td>\n",
       "      <td>Knockout Round</td>\n",
       "      <td>All Maps</td>\n",
       "      <td>killjoy</td>\n",
       "      <td>58.0</td>\n",
       "    </tr>\n",
       "    <tr>\n",
       "      <th>...</th>\n",
       "      <td>...</td>\n",
       "      <td>...</td>\n",
       "      <td>...</td>\n",
       "      <td>...</td>\n",
       "      <td>...</td>\n",
       "      <td>...</td>\n",
       "    </tr>\n",
       "    <tr>\n",
       "      <th>16969</th>\n",
       "      <td>Champions Tour 2023: Americas League</td>\n",
       "      <td>All Stages</td>\n",
       "      <td>All Match Types</td>\n",
       "      <td>Icebox</td>\n",
       "      <td>phoenix</td>\n",
       "      <td>0.0</td>\n",
       "    </tr>\n",
       "    <tr>\n",
       "      <th>16970</th>\n",
       "      <td>Champions Tour 2023: Americas League</td>\n",
       "      <td>All Stages</td>\n",
       "      <td>All Match Types</td>\n",
       "      <td>Icebox</td>\n",
       "      <td>iso</td>\n",
       "      <td>0.0</td>\n",
       "    </tr>\n",
       "    <tr>\n",
       "      <th>16971</th>\n",
       "      <td>Champions Tour 2023: Americas League</td>\n",
       "      <td>All Stages</td>\n",
       "      <td>All Match Types</td>\n",
       "      <td>Icebox</td>\n",
       "      <td>deadlock</td>\n",
       "      <td>0.0</td>\n",
       "    </tr>\n",
       "    <tr>\n",
       "      <th>16972</th>\n",
       "      <td>Champions Tour 2023: Americas League</td>\n",
       "      <td>All Stages</td>\n",
       "      <td>All Match Types</td>\n",
       "      <td>Icebox</td>\n",
       "      <td>reyna</td>\n",
       "      <td>0.0</td>\n",
       "    </tr>\n",
       "    <tr>\n",
       "      <th>16973</th>\n",
       "      <td>Champions Tour 2023: Americas League</td>\n",
       "      <td>All Stages</td>\n",
       "      <td>All Match Types</td>\n",
       "      <td>Icebox</td>\n",
       "      <td>yoru</td>\n",
       "      <td>0.0</td>\n",
       "    </tr>\n",
       "  </tbody>\n",
       "</table>\n",
       "<p>16974 rows × 6 columns</p>\n",
       "</div>"
      ],
      "text/plain": [
       "                                 Tournament       Stage       Match Type  \\\n",
       "0                                       NaN    Playoffs   Knockout Round   \n",
       "1                                       NaN    Playoffs   Knockout Round   \n",
       "2                                       NaN    Playoffs   Knockout Round   \n",
       "3                                       NaN    Playoffs   Knockout Round   \n",
       "4                                       NaN    Playoffs   Knockout Round   \n",
       "...                                     ...         ...              ...   \n",
       "16969  Champions Tour 2023: Americas League  All Stages  All Match Types   \n",
       "16970  Champions Tour 2023: Americas League  All Stages  All Match Types   \n",
       "16971  Champions Tour 2023: Americas League  All Stages  All Match Types   \n",
       "16972  Champions Tour 2023: Americas League  All Stages  All Match Types   \n",
       "16973  Champions Tour 2023: Americas League  All Stages  All Match Types   \n",
       "\n",
       "            Map     Agent  Pick Rate  \n",
       "0      All Maps      omen       67.0  \n",
       "1      All Maps      skye       58.0  \n",
       "2      All Maps      raze       58.0  \n",
       "3      All Maps    breach       58.0  \n",
       "4      All Maps   killjoy       58.0  \n",
       "...         ...       ...        ...  \n",
       "16969    Icebox   phoenix        0.0  \n",
       "16970    Icebox       iso        0.0  \n",
       "16971    Icebox  deadlock        0.0  \n",
       "16972    Icebox     reyna        0.0  \n",
       "16973    Icebox      yoru        0.0  \n",
       "\n",
       "[16974 rows x 6 columns]"
      ]
     },
     "execution_count": 14,
     "metadata": {},
     "output_type": "execute_result"
    }
   ],
   "source": [
    "df_2023"
   ]
  },
  {
   "cell_type": "code",
   "execution_count": 15,
   "metadata": {
    "scrolled": true
   },
   "outputs": [
    {
     "data": {
      "text/html": [
       "<div>\n",
       "<style scoped>\n",
       "    .dataframe tbody tr th:only-of-type {\n",
       "        vertical-align: middle;\n",
       "    }\n",
       "\n",
       "    .dataframe tbody tr th {\n",
       "        vertical-align: top;\n",
       "    }\n",
       "\n",
       "    .dataframe thead th {\n",
       "        text-align: right;\n",
       "    }\n",
       "</style>\n",
       "<table border=\"1\" class=\"dataframe\">\n",
       "  <thead>\n",
       "    <tr style=\"text-align: right;\">\n",
       "      <th></th>\n",
       "      <th>Tournament</th>\n",
       "      <th>Stage</th>\n",
       "      <th>Match Type</th>\n",
       "      <th>Map</th>\n",
       "      <th>Agent</th>\n",
       "      <th>Pick Rate</th>\n",
       "    </tr>\n",
       "  </thead>\n",
       "  <tbody>\n",
       "    <tr>\n",
       "      <th>23</th>\n",
       "      <td>Champions Tour 2023: Americas Last Chance Qual...</td>\n",
       "      <td>Main Event</td>\n",
       "      <td>Upper Round 1</td>\n",
       "      <td>Lotus</td>\n",
       "      <td>viper</td>\n",
       "      <td>100.0</td>\n",
       "    </tr>\n",
       "    <tr>\n",
       "      <th>24</th>\n",
       "      <td>Champions Tour 2023: Americas Last Chance Qual...</td>\n",
       "      <td>Main Event</td>\n",
       "      <td>Upper Round 1</td>\n",
       "      <td>Lotus</td>\n",
       "      <td>skye</td>\n",
       "      <td>100.0</td>\n",
       "    </tr>\n",
       "    <tr>\n",
       "      <th>25</th>\n",
       "      <td>Champions Tour 2023: Americas Last Chance Qual...</td>\n",
       "      <td>Main Event</td>\n",
       "      <td>Upper Round 1</td>\n",
       "      <td>Lotus</td>\n",
       "      <td>raze</td>\n",
       "      <td>100.0</td>\n",
       "    </tr>\n",
       "    <tr>\n",
       "      <th>26</th>\n",
       "      <td>Champions Tour 2023: Americas Last Chance Qual...</td>\n",
       "      <td>Main Event</td>\n",
       "      <td>Upper Round 1</td>\n",
       "      <td>Lotus</td>\n",
       "      <td>omen</td>\n",
       "      <td>100.0</td>\n",
       "    </tr>\n",
       "    <tr>\n",
       "      <th>27</th>\n",
       "      <td>Champions Tour 2023: Americas Last Chance Qual...</td>\n",
       "      <td>Main Event</td>\n",
       "      <td>Upper Round 1</td>\n",
       "      <td>Lotus</td>\n",
       "      <td>brimstone</td>\n",
       "      <td>0.0</td>\n",
       "    </tr>\n",
       "    <tr>\n",
       "      <th>...</th>\n",
       "      <td>...</td>\n",
       "      <td>...</td>\n",
       "      <td>...</td>\n",
       "      <td>...</td>\n",
       "      <td>...</td>\n",
       "      <td>...</td>\n",
       "    </tr>\n",
       "    <tr>\n",
       "      <th>3215</th>\n",
       "      <td>Champions Tour 2023: Americas League</td>\n",
       "      <td>All Stages</td>\n",
       "      <td>All Match Types</td>\n",
       "      <td>Icebox</td>\n",
       "      <td>phoenix</td>\n",
       "      <td>0.0</td>\n",
       "    </tr>\n",
       "    <tr>\n",
       "      <th>3216</th>\n",
       "      <td>Champions Tour 2023: Americas League</td>\n",
       "      <td>All Stages</td>\n",
       "      <td>All Match Types</td>\n",
       "      <td>Icebox</td>\n",
       "      <td>iso</td>\n",
       "      <td>0.0</td>\n",
       "    </tr>\n",
       "    <tr>\n",
       "      <th>3217</th>\n",
       "      <td>Champions Tour 2023: Americas League</td>\n",
       "      <td>All Stages</td>\n",
       "      <td>All Match Types</td>\n",
       "      <td>Icebox</td>\n",
       "      <td>deadlock</td>\n",
       "      <td>0.0</td>\n",
       "    </tr>\n",
       "    <tr>\n",
       "      <th>3218</th>\n",
       "      <td>Champions Tour 2023: Americas League</td>\n",
       "      <td>All Stages</td>\n",
       "      <td>All Match Types</td>\n",
       "      <td>Icebox</td>\n",
       "      <td>reyna</td>\n",
       "      <td>0.0</td>\n",
       "    </tr>\n",
       "    <tr>\n",
       "      <th>3219</th>\n",
       "      <td>Champions Tour 2023: Americas League</td>\n",
       "      <td>All Stages</td>\n",
       "      <td>All Match Types</td>\n",
       "      <td>Icebox</td>\n",
       "      <td>yoru</td>\n",
       "      <td>0.0</td>\n",
       "    </tr>\n",
       "  </tbody>\n",
       "</table>\n",
       "<p>2668 rows × 6 columns</p>\n",
       "</div>"
      ],
      "text/plain": [
       "                                             Tournament       Stage  \\\n",
       "23    Champions Tour 2023: Americas Last Chance Qual...  Main Event   \n",
       "24    Champions Tour 2023: Americas Last Chance Qual...  Main Event   \n",
       "25    Champions Tour 2023: Americas Last Chance Qual...  Main Event   \n",
       "26    Champions Tour 2023: Americas Last Chance Qual...  Main Event   \n",
       "27    Champions Tour 2023: Americas Last Chance Qual...  Main Event   \n",
       "...                                                 ...         ...   \n",
       "3215               Champions Tour 2023: Americas League  All Stages   \n",
       "3216               Champions Tour 2023: Americas League  All Stages   \n",
       "3217               Champions Tour 2023: Americas League  All Stages   \n",
       "3218               Champions Tour 2023: Americas League  All Stages   \n",
       "3219               Champions Tour 2023: Americas League  All Stages   \n",
       "\n",
       "           Match Type     Map      Agent  Pick Rate  \n",
       "23      Upper Round 1   Lotus      viper      100.0  \n",
       "24      Upper Round 1   Lotus       skye      100.0  \n",
       "25      Upper Round 1   Lotus       raze      100.0  \n",
       "26      Upper Round 1   Lotus       omen      100.0  \n",
       "27      Upper Round 1   Lotus  brimstone        0.0  \n",
       "...               ...     ...        ...        ...  \n",
       "3215  All Match Types  Icebox    phoenix        0.0  \n",
       "3216  All Match Types  Icebox        iso        0.0  \n",
       "3217  All Match Types  Icebox   deadlock        0.0  \n",
       "3218  All Match Types  Icebox      reyna        0.0  \n",
       "3219  All Match Types  Icebox       yoru        0.0  \n",
       "\n",
       "[2668 rows x 6 columns]"
      ]
     },
     "execution_count": 15,
     "metadata": {},
     "output_type": "execute_result"
    }
   ],
   "source": [
    "df_2023 = df_2023.dropna().reset_index(drop = True)\n",
    "df_2023 = df_2023.drop(df_2023[df_2023['Map'] == 'All Maps'].index)\n",
    "df_2023"
   ]
  },
  {
   "cell_type": "code",
   "execution_count": 16,
   "metadata": {},
   "outputs": [
    {
     "data": {
      "text/plain": [
       "Agent\n",
       "astra        22.706897\n",
       "breach       22.077586\n",
       "brimstone    18.396552\n",
       "chamber       4.663793\n",
       "cypher        5.482759\n",
       "deadlock      0.000000\n",
       "fade          4.551724\n",
       "gekko         2.301724\n",
       "harbor       23.603448\n",
       "iso           0.000000\n",
       "jett         64.112069\n",
       "kayo         18.267241\n",
       "killjoy      70.318966\n",
       "neon          5.948276\n",
       "omen         36.224138\n",
       "phoenix       0.396552\n",
       "raze         42.034483\n",
       "reyna         0.000000\n",
       "sage          5.844828\n",
       "skye         64.439655\n",
       "sova         28.224138\n",
       "viper        59.844828\n",
       "yoru          0.646552\n",
       "Name: Pick Rate, dtype: float64"
      ]
     },
     "execution_count": 16,
     "metadata": {},
     "output_type": "execute_result"
    }
   ],
   "source": [
    "# df_2023['Pick Rate'] = pd.to_numeric(df_2023['Pick Rate'], errors='coerce')\n",
    "average_pickrate = df_2023.groupby('Agent')[\"Pick Rate\"].mean()\n",
    "average_pickrate"
   ]
  },
  {
   "cell_type": "code",
   "execution_count": 17,
   "metadata": {},
   "outputs": [],
   "source": [
    "average_pickrate_df = average_pickrate.reset_index(name='Average Pick Rate')\n",
    "average_pickrate_df.sort_values(by= ['Average Pick Rate'], ascending = False, inplace = True)"
   ]
  },
  {
   "cell_type": "code",
   "execution_count": 18,
   "metadata": {},
   "outputs": [
    {
     "data": {
      "image/png": "[encoded data removed]",
      "text/plain": [
       "<Figure size 640x480 with 1 Axes>"
      ]
     },
     "metadata": {},
     "output_type": "display_data"
    }
   ],
   "source": [
    "palette = ['#86c3b1']\n",
    "sns.barplot(data=average_pickrate_df, y='Agent', x='Average Pick Rate', palette = palette)\n",
    "plt.xlabel('Average Pick Rate')\n",
    "plt.ylabel('Agent')\n",
    "plt.title('Average Pick Rate in Americas', pad = 20, color = '#c79c7d', fontweight = 'bold')\n",
    "plt.tight_layout()\n",
    "plt.show()"
   ]
  },
  {
   "cell_type": "code",
   "execution_count": 19,
   "metadata": {},
   "outputs": [
    {
     "data": {
      "text/html": [
       "<div>\n",
       "<style scoped>\n",
       "    .dataframe tbody tr th:only-of-type {\n",
       "        vertical-align: middle;\n",
       "    }\n",
       "\n",
       "    .dataframe tbody tr th {\n",
       "        vertical-align: top;\n",
       "    }\n",
       "\n",
       "    .dataframe thead th {\n",
       "        text-align: right;\n",
       "    }\n",
       "</style>\n",
       "<table border=\"1\" class=\"dataframe\">\n",
       "  <thead>\n",
       "    <tr style=\"text-align: right;\">\n",
       "      <th></th>\n",
       "      <th>Tournament</th>\n",
       "      <th>Stage</th>\n",
       "      <th>Match Type</th>\n",
       "      <th>Map</th>\n",
       "      <th>Agent</th>\n",
       "      <th>Pick Rate</th>\n",
       "    </tr>\n",
       "  </thead>\n",
       "  <tbody>\n",
       "    <tr>\n",
       "      <th>23</th>\n",
       "      <td>Champions Tour 2023: Americas Last Chance Qual...</td>\n",
       "      <td>Main Event</td>\n",
       "      <td>Upper Round 1</td>\n",
       "      <td>Lotus</td>\n",
       "      <td>viper</td>\n",
       "      <td>100.0</td>\n",
       "    </tr>\n",
       "    <tr>\n",
       "      <th>24</th>\n",
       "      <td>Champions Tour 2023: Americas Last Chance Qual...</td>\n",
       "      <td>Main Event</td>\n",
       "      <td>Upper Round 1</td>\n",
       "      <td>Lotus</td>\n",
       "      <td>skye</td>\n",
       "      <td>100.0</td>\n",
       "    </tr>\n",
       "    <tr>\n",
       "      <th>25</th>\n",
       "      <td>Champions Tour 2023: Americas Last Chance Qual...</td>\n",
       "      <td>Main Event</td>\n",
       "      <td>Upper Round 1</td>\n",
       "      <td>Lotus</td>\n",
       "      <td>raze</td>\n",
       "      <td>100.0</td>\n",
       "    </tr>\n",
       "    <tr>\n",
       "      <th>26</th>\n",
       "      <td>Champions Tour 2023: Americas Last Chance Qual...</td>\n",
       "      <td>Main Event</td>\n",
       "      <td>Upper Round 1</td>\n",
       "      <td>Lotus</td>\n",
       "      <td>omen</td>\n",
       "      <td>100.0</td>\n",
       "    </tr>\n",
       "    <tr>\n",
       "      <th>27</th>\n",
       "      <td>Champions Tour 2023: Americas Last Chance Qual...</td>\n",
       "      <td>Main Event</td>\n",
       "      <td>Upper Round 1</td>\n",
       "      <td>Lotus</td>\n",
       "      <td>brimstone</td>\n",
       "      <td>0.0</td>\n",
       "    </tr>\n",
       "    <tr>\n",
       "      <th>...</th>\n",
       "      <td>...</td>\n",
       "      <td>...</td>\n",
       "      <td>...</td>\n",
       "      <td>...</td>\n",
       "      <td>...</td>\n",
       "      <td>...</td>\n",
       "    </tr>\n",
       "    <tr>\n",
       "      <th>3215</th>\n",
       "      <td>Champions Tour 2023: Americas League</td>\n",
       "      <td>All Stages</td>\n",
       "      <td>All Match Types</td>\n",
       "      <td>Icebox</td>\n",
       "      <td>phoenix</td>\n",
       "      <td>0.0</td>\n",
       "    </tr>\n",
       "    <tr>\n",
       "      <th>3216</th>\n",
       "      <td>Champions Tour 2023: Americas League</td>\n",
       "      <td>All Stages</td>\n",
       "      <td>All Match Types</td>\n",
       "      <td>Icebox</td>\n",
       "      <td>iso</td>\n",
       "      <td>0.0</td>\n",
       "    </tr>\n",
       "    <tr>\n",
       "      <th>3217</th>\n",
       "      <td>Champions Tour 2023: Americas League</td>\n",
       "      <td>All Stages</td>\n",
       "      <td>All Match Types</td>\n",
       "      <td>Icebox</td>\n",
       "      <td>deadlock</td>\n",
       "      <td>0.0</td>\n",
       "    </tr>\n",
       "    <tr>\n",
       "      <th>3218</th>\n",
       "      <td>Champions Tour 2023: Americas League</td>\n",
       "      <td>All Stages</td>\n",
       "      <td>All Match Types</td>\n",
       "      <td>Icebox</td>\n",
       "      <td>reyna</td>\n",
       "      <td>0.0</td>\n",
       "    </tr>\n",
       "    <tr>\n",
       "      <th>3219</th>\n",
       "      <td>Champions Tour 2023: Americas League</td>\n",
       "      <td>All Stages</td>\n",
       "      <td>All Match Types</td>\n",
       "      <td>Icebox</td>\n",
       "      <td>yoru</td>\n",
       "      <td>0.0</td>\n",
       "    </tr>\n",
       "  </tbody>\n",
       "</table>\n",
       "<p>2668 rows × 6 columns</p>\n",
       "</div>"
      ],
      "text/plain": [
       "                                             Tournament       Stage  \\\n",
       "23    Champions Tour 2023: Americas Last Chance Qual...  Main Event   \n",
       "24    Champions Tour 2023: Americas Last Chance Qual...  Main Event   \n",
       "25    Champions Tour 2023: Americas Last Chance Qual...  Main Event   \n",
       "26    Champions Tour 2023: Americas Last Chance Qual...  Main Event   \n",
       "27    Champions Tour 2023: Americas Last Chance Qual...  Main Event   \n",
       "...                                                 ...         ...   \n",
       "3215               Champions Tour 2023: Americas League  All Stages   \n",
       "3216               Champions Tour 2023: Americas League  All Stages   \n",
       "3217               Champions Tour 2023: Americas League  All Stages   \n",
       "3218               Champions Tour 2023: Americas League  All Stages   \n",
       "3219               Champions Tour 2023: Americas League  All Stages   \n",
       "\n",
       "           Match Type     Map      Agent  Pick Rate  \n",
       "23      Upper Round 1   Lotus      viper      100.0  \n",
       "24      Upper Round 1   Lotus       skye      100.0  \n",
       "25      Upper Round 1   Lotus       raze      100.0  \n",
       "26      Upper Round 1   Lotus       omen      100.0  \n",
       "27      Upper Round 1   Lotus  brimstone        0.0  \n",
       "...               ...     ...        ...        ...  \n",
       "3215  All Match Types  Icebox    phoenix        0.0  \n",
       "3216  All Match Types  Icebox        iso        0.0  \n",
       "3217  All Match Types  Icebox   deadlock        0.0  \n",
       "3218  All Match Types  Icebox      reyna        0.0  \n",
       "3219  All Match Types  Icebox       yoru        0.0  \n",
       "\n",
       "[2668 rows x 6 columns]"
      ]
     },
     "execution_count": 19,
     "metadata": {},
     "output_type": "execute_result"
    }
   ],
   "source": [
    "df_2023"
   ]
  },
  {
   "cell_type": "code",
   "execution_count": 27,
   "metadata": {},
   "outputs": [
    {
     "data": {
      "image/png": "[encoded data removed]",
      "text/plain": [
       "<Figure size 1000x800 with 1 Axes>"
      ]
     },
     "metadata": {},
     "output_type": "display_data"
    }
   ],
   "source": [
    "maps = df_2023['Map'].value_counts()\n",
    "plt.figure(figsize=(10, 8))\n",
    "sns.set_style(\"darkgrid\")\n",
    "eight_color_palette = [\"#ff9999\", \"#66b3ff\", \"#99ff99\", \"#ffcc99\", \"#c2c2f0\", \"#ffb3e6\", \"#c2f0c2\", \"#a4f0d9\"]\n",
    "\n",
    "plt.pie(maps.values, labels=maps.index, autopct='%0.2f%%', labeldistance = 1.05, colors = eight_color_palette)\n",
    "plt.title('Distribution of Maps')\n",
    "plt.show()\n"
   ]
  },
  {
   "cell_type": "code",
   "execution_count": null,
   "metadata": {},
   "outputs": [],
   "source": []
  }
 ],
 "metadata": {
  "kernelspec": {
   "display_name": "Python 3 (ipykernel)",
   "language": "python",
   "name": "python3"
  },
  "language_info": {
   "codemirror_mode": {
    "name": "ipython",
    "version": 3
   },
   "file_extension": ".py",
   "mimetype": "text/x-python",
   "name": "python",
   "nbconvert_exporter": "python",
   "pygments_lexer": "ipython3",
   "version": "3.9.5"
  }
 },
 "nbformat": 4,
 "nbformat_minor": 4
}
