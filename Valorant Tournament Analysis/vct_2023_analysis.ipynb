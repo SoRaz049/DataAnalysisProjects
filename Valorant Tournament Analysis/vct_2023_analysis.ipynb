{
 "cells": [
  {
   "cell_type": "code",
   "execution_count": 1,
   "metadata": {},
   "outputs": [],
   "source": [
    "import pandas as pd\n",
    "import numpy as mp\n",
    "from matplotlib import pyplot as plt\n",
    "import seaborn as sns\n",
    "import warnings\n"
   ]
  },
  {
   "cell_type": "code",
   "execution_count": 2,
   "metadata": {},
   "outputs": [],
   "source": [
    "df_2023 = pd.read_csv(\"vct_2023_agents_pick_rates.csv\")"
   ]
  },
  {
   "cell_type": "code",
   "execution_count": 3,
   "metadata": {},
   "outputs": [
    {
     "name": "stdout",
     "output_type": "stream",
     "text": [
      "<class 'pandas.core.frame.DataFrame'>\n",
      "RangeIndex: 16974 entries, 0 to 16973\n",
      "Data columns (total 6 columns):\n",
      " #   Column      Non-Null Count  Dtype \n",
      "---  ------      --------------  ----- \n",
      " 0   Tournament  16974 non-null  object\n",
      " 1   Stage       16974 non-null  object\n",
      " 2   Match Type  16974 non-null  object\n",
      " 3   Map         16974 non-null  object\n",
      " 4   Agent       16974 non-null  object\n",
      " 5   Pick Rate   16974 non-null  object\n",
      "dtypes: object(6)\n",
      "memory usage: 795.8+ KB\n"
     ]
    }
   ],
   "source": [
    "df_2023.info()"
   ]
  },
  {
   "cell_type": "code",
   "execution_count": 4,
   "metadata": {},
   "outputs": [
    {
     "data": {
      "text/html": [
       "<div>\n",
       "<style scoped>\n",
       "    .dataframe tbody tr th:only-of-type {\n",
       "        vertical-align: middle;\n",
       "    }\n",
       "\n",
       "    .dataframe tbody tr th {\n",
       "        vertical-align: top;\n",
       "    }\n",
       "\n",
       "    .dataframe thead th {\n",
       "        text-align: right;\n",
       "    }\n",
       "</style>\n",
       "<table border=\"1\" class=\"dataframe\">\n",
       "  <thead>\n",
       "    <tr style=\"text-align: right;\">\n",
       "      <th></th>\n",
       "      <th>Tournament</th>\n",
       "      <th>Stage</th>\n",
       "      <th>Match Type</th>\n",
       "      <th>Map</th>\n",
       "      <th>Agent</th>\n",
       "      <th>Pick Rate</th>\n",
       "    </tr>\n",
       "  </thead>\n",
       "  <tbody>\n",
       "    <tr>\n",
       "      <th>0</th>\n",
       "      <td>Champions Tour 2023: EMEA Last Chance Qualifier</td>\n",
       "      <td>Playoffs</td>\n",
       "      <td>Knockout Round</td>\n",
       "      <td>All Maps</td>\n",
       "      <td>omen</td>\n",
       "      <td>67%</td>\n",
       "    </tr>\n",
       "    <tr>\n",
       "      <th>1</th>\n",
       "      <td>Champions Tour 2023: EMEA Last Chance Qualifier</td>\n",
       "      <td>Playoffs</td>\n",
       "      <td>Knockout Round</td>\n",
       "      <td>All Maps</td>\n",
       "      <td>skye</td>\n",
       "      <td>58%</td>\n",
       "    </tr>\n",
       "    <tr>\n",
       "      <th>2</th>\n",
       "      <td>Champions Tour 2023: EMEA Last Chance Qualifier</td>\n",
       "      <td>Playoffs</td>\n",
       "      <td>Knockout Round</td>\n",
       "      <td>All Maps</td>\n",
       "      <td>raze</td>\n",
       "      <td>58%</td>\n",
       "    </tr>\n",
       "    <tr>\n",
       "      <th>3</th>\n",
       "      <td>Champions Tour 2023: EMEA Last Chance Qualifier</td>\n",
       "      <td>Playoffs</td>\n",
       "      <td>Knockout Round</td>\n",
       "      <td>All Maps</td>\n",
       "      <td>breach</td>\n",
       "      <td>58%</td>\n",
       "    </tr>\n",
       "    <tr>\n",
       "      <th>4</th>\n",
       "      <td>Champions Tour 2023: EMEA Last Chance Qualifier</td>\n",
       "      <td>Playoffs</td>\n",
       "      <td>Knockout Round</td>\n",
       "      <td>All Maps</td>\n",
       "      <td>killjoy</td>\n",
       "      <td>58%</td>\n",
       "    </tr>\n",
       "  </tbody>\n",
       "</table>\n",
       "</div>"
      ],
      "text/plain": [
       "                                        Tournament     Stage      Match Type  \\\n",
       "0  Champions Tour 2023: EMEA Last Chance Qualifier  Playoffs  Knockout Round   \n",
       "1  Champions Tour 2023: EMEA Last Chance Qualifier  Playoffs  Knockout Round   \n",
       "2  Champions Tour 2023: EMEA Last Chance Qualifier  Playoffs  Knockout Round   \n",
       "3  Champions Tour 2023: EMEA Last Chance Qualifier  Playoffs  Knockout Round   \n",
       "4  Champions Tour 2023: EMEA Last Chance Qualifier  Playoffs  Knockout Round   \n",
       "\n",
       "        Map    Agent Pick Rate  \n",
       "0  All Maps     omen       67%  \n",
       "1  All Maps     skye       58%  \n",
       "2  All Maps     raze       58%  \n",
       "3  All Maps   breach       58%  \n",
       "4  All Maps  killjoy       58%  "
      ]
     },
     "execution_count": 4,
     "metadata": {},
     "output_type": "execute_result"
    }
   ],
   "source": [
    "df_2023.head()"
   ]
  },
  {
   "cell_type": "code",
   "execution_count": 5,
   "metadata": {},
   "outputs": [
    {
     "data": {
      "text/plain": [
       "Tournament    0\n",
       "Stage         0\n",
       "Match Type    0\n",
       "Map           0\n",
       "Agent         0\n",
       "Pick Rate     0\n",
       "dtype: int64"
      ]
     },
     "execution_count": 5,
     "metadata": {},
     "output_type": "execute_result"
    }
   ],
   "source": [
    "df_2023.isnull().sum()"
   ]
  },
  {
   "cell_type": "code",
   "execution_count": 6,
   "metadata": {},
   "outputs": [
    {
     "name": "stdout",
     "output_type": "stream",
     "text": [
      "object\n"
     ]
    }
   ],
   "source": [
    "print(df_2023[\"Pick Rate\"].dtype)"
   ]
  },
  {
   "cell_type": "code",
   "execution_count": 7,
   "metadata": {},
   "outputs": [],
   "source": [
    "df_2023[\"Pick Rate\"] = df_2023[\"Pick Rate\"].str.rstrip('%').astype(float) "
   ]
  },
  {
   "cell_type": "code",
   "execution_count": 8,
   "metadata": {},
   "outputs": [
    {
     "data": {
      "text/plain": [
       "Stage\n",
       "Playoffs             6049\n",
       "Regular Season       2668\n",
       "Group Stage          2093\n",
       "All Stages           1886\n",
       "Main Event           1380\n",
       "League Play          1219\n",
       "Bracket Stage         851\n",
       "Preliminary Stage     828\n",
       "Name: count, dtype: int64"
      ]
     },
     "execution_count": 8,
     "metadata": {},
     "output_type": "execute_result"
    }
   ],
   "source": [
    "df_2023[\"Stage\"].value_counts()"
   ]
  },
  {
   "cell_type": "code",
   "execution_count": 9,
   "metadata": {},
   "outputs": [],
   "source": [
    "playoffs_stage = df_2023[df_2023[\"Stage\"] == \"Playoffs\"]"
   ]
  },
  {
   "cell_type": "code",
   "execution_count": 10,
   "metadata": {},
   "outputs": [],
   "source": [
    "average_pick_playoffs = playoffs_stage.groupby(['Tournament', 'Agent'])[\"Pick Rate\"].mean()\n"
   ]
  },
  {
   "cell_type": "code",
   "execution_count": 13,
   "metadata": {},
   "outputs": [
    {
     "ename": "AttributeError",
     "evalue": "module 'matplotlib.pyplot' has no attribute 'average_pick_playoffs'",
     "output_type": "error",
     "traceback": [
      "\u001b[1;31m---------------------------------------------------------------------------\u001b[0m",
      "\u001b[1;31mAttributeError\u001b[0m                            Traceback (most recent call last)",
      "Cell \u001b[1;32mIn[13], line 1\u001b[0m\n\u001b[1;32m----> 1\u001b[0m \u001b[43mplt\u001b[49m\u001b[38;5;241;43m.\u001b[39;49m\u001b[43maverage_pick_playoffs\u001b[49m\u001b[38;5;241m.\u001b[39mplot(kind \u001b[38;5;241m=\u001b[39m \u001b[38;5;124m\"\u001b[39m\u001b[38;5;124mbar\u001b[39m\u001b[38;5;124m\"\u001b[39m, index \u001b[38;5;241m=\u001b[39m \u001b[38;5;124m\"\u001b[39m\u001b[38;5;124mTournament\u001b[39m\u001b[38;5;124m\"\u001b[39m, columns \u001b[38;5;241m=\u001b[39m \u001b[38;5;124m\"\u001b[39m\u001b[38;5;124mAgent\u001b[39m\u001b[38;5;124m\"\u001b[39m, values \u001b[38;5;241m=\u001b[39m \u001b[38;5;124m\"\u001b[39m\u001b[38;5;124mPick Rate\u001b[39m\u001b[38;5;124m\"\u001b[39m)\n",
      "\u001b[1;31mAttributeError\u001b[0m: module 'matplotlib.pyplot' has no attribute 'average_pick_playoffs'"
     ]
    }
   ],
   "source": [
    "plt.average_pick_playoffs.plot(kind = \"bar\", index = \"Tournament\", columns = \"Agent\", values = \"Pick Rate\")"
   ]
  },
  {
   "cell_type": "code",
   "execution_count": null,
   "metadata": {},
   "outputs": [],
   "source": []
  },
  {
   "cell_type": "code",
   "execution_count": null,
   "metadata": {},
   "outputs": [],
   "source": []
  }
 ],
 "metadata": {
  "kernelspec": {
   "display_name": "Python 3 (ipykernel)",
   "language": "python",
   "name": "python3"
  },
  "language_info": {
   "codemirror_mode": {
    "name": "ipython",
    "version": 3
   },
   "file_extension": ".py",
   "mimetype": "text/x-python",
   "name": "python",
   "nbconvert_exporter": "python",
   "pygments_lexer": "ipython3",
   "version": "3.9.5"
  }
 },
 "nbformat": 4,
 "nbformat_minor": 4
}
